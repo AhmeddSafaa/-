{
  "cells": [
    {
      "cell_type": "markdown",
      "metadata": {
        "id": "6dyXFarpYbL9"
      },
      "source": [
        "# Task 1 – SQL Challenge\n",
        "This notebook contains the three SQL queries for the Wolt Data Science Internship assignment, structured as string outputs for easy review."
      ]
    },
    {
      "cell_type": "code",
      "metadata": {
        "colab": {
          "base_uri": "https://localhost:8080/",
          "height": 0
        },
        "id": "d2pjc4BdYbMF",
        "outputId": "f6886c42-079a-4ed0-c444-93a8766ae660"
      },
      "execution_count": 1,
      "outputs": [
        {
          "output_type": "stream",
          "name": "stdout",
          "text": [
            "\n",
            "-- Query 1: Number of users registered in Finland in the last 30 days\n",
            "SELECT COUNT(*) AS users_last_30_days\n",
            "FROM Users\n",
            "WHERE User_country = 'Finland'\n",
            "  AND User_registration_timestamp_utc >= NOW() - INTERVAL '30 days';\n",
            "\n"
          ]
        }
      ],
      "source": [
        "query1 = '''\n",
        "-- Query 1: Number of users registered in Finland in the last 30 days\n",
        "SELECT COUNT(*) AS users_last_30_days\n",
        "FROM Users\n",
        "WHERE User_country = 'Finland'\n",
        "  AND User_registration_timestamp_utc >= NOW() - INTERVAL '30 days';\n",
        "'''\n",
        "print(query1)"
      ]
    },
    {
      "cell_type": "code",
      "metadata": {
        "colab": {
          "base_uri": "https://localhost:8080/",
          "height": 0
        },
        "id": "KOwB5VuTYbMI",
        "outputId": "defd6e4b-14f1-45aa-96b9-7f16ce4a2e0c"
      },
      "execution_count": 2,
      "outputs": [
        {
          "output_type": "stream",
          "name": "stdout",
          "text": [
            "\n",
            "-- Query 2: Users with at least one purchase in the past 30 days and more than one unique product\n",
            "SELECT COUNT(DISTINCT s.User_id) AS users_multi_product\n",
            "FROM Sales s\n",
            "JOIN Purchases p ON s.Purchase_id = p.Purchase_id\n",
            "WHERE s.Timestamp_utc >= NOW() - INTERVAL '30 days'\n",
            "GROUP BY s.User_id\n",
            "HAVING COUNT(DISTINCT p.Product_id) > 1;\n",
            "\n"
          ]
        }
      ],
      "source": [
        "query2 = '''\n",
        "-- Query 2: Users with at least one purchase in the past 30 days and more than one unique product\n",
        "SELECT COUNT(DISTINCT s.User_id) AS users_multi_product\n",
        "FROM Sales s\n",
        "JOIN Purchases p ON s.Purchase_id = p.Purchase_id\n",
        "WHERE s.Timestamp_utc >= NOW() - INTERVAL '30 days'\n",
        "GROUP BY s.User_id\n",
        "HAVING COUNT(DISTINCT p.Product_id) > 1;\n",
        "'''\n",
        "print(query2)"
      ]
    },
    {
      "cell_type": "code",
      "metadata": {
        "colab": {
          "base_uri": "https://localhost:8080/",
          "height": 0
        },
        "id": "SwMgWBDiYbMJ",
        "outputId": "4b432fb6-5123-4abf-b130-5a7468a8426d"
      },
      "execution_count": 3,
      "outputs": [
        {
          "output_type": "stream",
          "name": "stdout",
          "text": [
            "\n",
            "-- Query 3: Most recent price for each purchased product (Method 1 - using window functions)\n",
            "SELECT Product_id, Price\n",
            "FROM (\n",
            "    SELECT Product_id, Price,\n",
            "           ROW_NUMBER() OVER (PARTITION BY Product_id ORDER BY Purchase_id DESC) AS rn\n",
            "    FROM Purchases\n",
            ") sub\n",
            "WHERE rn = 1;\n",
            "\n"
          ]
        }
      ],
      "source": [
        "query3_method1 = '''\n",
        "-- Query 3: Most recent price for each purchased product (Method 1 - using window functions)\n",
        "SELECT Product_id, Price\n",
        "FROM (\n",
        "    SELECT Product_id, Price,\n",
        "           ROW_NUMBER() OVER (PARTITION BY Product_id ORDER BY Purchase_id DESC) AS rn\n",
        "    FROM Purchases\n",
        ") sub\n",
        "WHERE rn = 1;\n",
        "'''\n",
        "print(query3_method1)"
      ]
    },
    {
      "cell_type": "code",
      "metadata": {
        "colab": {
          "base_uri": "https://localhost:8080/",
          "height": 0
        },
        "id": "qMjYm0sYYbMJ",
        "outputId": "c49acd41-30ae-480e-c406-c0d08ebd8703"
      },
      "execution_count": 4,
      "outputs": [
        {
          "output_type": "stream",
          "name": "stdout",
          "text": [
            "\n",
            "-- Method 2 - using JOIN\n",
            "SELECT p.Product_id, p.Price\n",
            "FROM Purchases p\n",
            "JOIN (\n",
            "    SELECT Product_id, MAX(Purchase_id) AS MaxPurchase\n",
            "    FROM Purchases\n",
            "    GROUP BY Product_id\n",
            ") recent ON p.Product_id = recent.Product_id AND p.Purchase_id = recent.MaxPurchase;\n",
            "\n"
          ]
        }
      ],
      "source": [
        "query3_method2 = '''\n",
        "-- Method 2 - using JOIN\n",
        "SELECT p.Product_id, p.Price\n",
        "FROM Purchases p\n",
        "JOIN (\n",
        "    SELECT Product_id, MAX(Purchase_id) AS MaxPurchase\n",
        "    FROM Purchases\n",
        "    GROUP BY Product_id\n",
        ") recent ON p.Product_id = recent.Product_id AND p.Purchase_id = recent.MaxPurchase;\n",
        "'''\n",
        "print(query3_method2)"
      ]
    }
  ],
  "metadata": {
    "kernelspec": {
      "display_name": "Python 3",
      "language": "python",
      "name": "python3"
    },
    "language_info": {
      "name": "python"
    },
    "colab": {
      "provenance": []
    }
  },
  "nbformat": 4,
  "nbformat_minor": 0
}