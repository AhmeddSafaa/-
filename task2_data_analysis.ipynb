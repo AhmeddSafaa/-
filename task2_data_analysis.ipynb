{
  "cells": [
    {
      "cell_type": "markdown",
      "metadata": {},
      "source": [
        "# Wolt Data Science Internship \u2013 Task 2 Analysis\n",
        "Exploratory Data Analysis and Insights from user data."
      ]
    },
    {
      "cell_type": "code",
      "execution_count": null,
      "metadata": {},
      "outputs": [],
      "source": [
        "import pandas as pd\n",
        "import matplotlib.pyplot as plt\n",
        "import seaborn as sns\n",
        "sns.set(style='whitegrid')\n",
        "\n",
        "# Load dataset\n",
        "df = pd.read_csv('dataset_for_datascience_assignment.csv')\n",
        "df['IS_BUYER'] = df['PURCHASE_COUNT'] > 0\n",
        "df.head()"
      ]
    },
    {
      "cell_type": "markdown",
      "metadata": {},
      "source": [
        "## Buyer vs Non-Buyer Distribution"
      ]
    },
    {
      "cell_type": "code",
      "execution_count": null,
      "metadata": {},
      "outputs": [],
      "source": [
        "buyer_counts = df['IS_BUYER'].value_counts().rename({True: 'Buyers', False: 'Non-buyers'})\n",
        "sns.barplot(x=buyer_counts.index, y=buyer_counts.values)\n",
        "plt.title('Distribution of Buyers vs Non-buyers')\n",
        "plt.ylabel('Number of Users')\n",
        "plt.show()"
      ]
    },
    {
      "cell_type": "markdown",
      "metadata": {},
      "source": [
        "## Total Purchase Value Distribution Among Buyers (Log Scale)"
      ]
    },
    {
      "cell_type": "code",
      "execution_count": null,
      "metadata": {},
      "outputs": [],
      "source": [
        "buyers_df = df[df['IS_BUYER']]\n",
        "sns.histplot(buyers_df['TOTAL_PURCHASES_EUR'], bins=50, kde=True, log_scale=True)\n",
        "plt.title('Distribution of Total Purchases (EUR) Among Buyers')\n",
        "plt.xlabel('Total Purchases in EUR (log scale)')\n",
        "plt.ylabel('User Count')\n",
        "plt.show()"
      ]
    }
  ],
  "metadata": {
    "kernelspec": {
      "display_name": "Python 3",
      "language": "python",
      "name": "python3"
    },
    "language_info": {
      "name": "python",
      "version": "3.x"
    }
  },
  "nbformat": 4,
  "nbformat_minor": 2
}